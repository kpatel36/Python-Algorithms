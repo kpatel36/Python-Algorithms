{
 "cells": [
  {
   "cell_type": "markdown",
   "metadata": {},
   "source": [
    "# Algorithms, Binary Search & Linked Lists"
   ]
  },
  {
   "cell_type": "markdown",
   "metadata": {},
   "source": [
    "## Tasks Today:\n",
    " \n",
    "1) <b>In-Place Algorithms</b> <br>\n",
    " &nbsp;&nbsp;&nbsp;&nbsp; a) Syntax <br>\n",
    " &nbsp;&nbsp;&nbsp;&nbsp; a) Out of Place Algorithm <br>\n",
    " &nbsp;&nbsp;&nbsp;&nbsp; b) In-Class Exercise #1 <br>\n",
    "2) <b>Two Pointers</b> <br>\n",
    "3) <b>Linked Lists</b> <br>\n",
    "4) <b>Merge Sort</b> <br>\n",
    " &nbsp;&nbsp;&nbsp;&nbsp; a) Video on Algorithms <br>\n",
    " &nbsp;&nbsp;&nbsp;&nbsp; b) How it Works <br>\n",
    "5) <b>Exercises</b> <br>\n",
    " &nbsp;&nbsp;&nbsp;&nbsp; a) Exercise #1 - Reverse a List in Place Using an In-Place Algorithm <br>\n",
    " &nbsp;&nbsp;&nbsp;&nbsp; b) Exercise #2 - Find Distinct Words <br>\n",
    " &nbsp;&nbsp;&nbsp;&nbsp; c) Exercise #3 - Write a program to implement a Linear Search Algorithm. <br>"
   ]
  },
  {
   "cell_type": "markdown",
   "metadata": {},
   "source": [
    "## In-Place Algorithms"
   ]
  },
  {
   "cell_type": "markdown",
   "metadata": {},
   "source": []
  },
  {
   "cell_type": "markdown",
   "metadata": {},
   "source": [
    "#### Syntax"
   ]
  },
  {
   "cell_type": "code",
   "execution_count": 10,
   "metadata": {},
   "outputs": [
    {
     "name": "stdout",
     "output_type": "stream",
     "text": [
      "Fennec Fox Giant River Otter\n",
      "before swap: ['Fennec Fox', 'Giant River Otter', 'Siberian Tiger', 'Tasmanian Devil', 'Some Dog Named Frank']\n",
      "after swap: ['Some Dog Named Frank', 'Giant River Otter', 'Siberian Tiger', 'Fennec Fox', 'Tasmanian Devil']\n"
     ]
    }
   ],
   "source": [
    "# switching the places of values within an ordered data structure\n",
    "# is a swapping algorithm\n",
    "# it could be as simple as swapping two indexes:\n",
    "    # var[i], var[i+1] = var[i}1], vari[i]\n",
    "    # multiple variable assignment\n",
    "    \n",
    "a = 'Fennec Fox'\n",
    "b = 'Giant River Otter'\n",
    "\n",
    "#a , b = b , a\n",
    "\n",
    "print(a,b)\n",
    "\n",
    "\n",
    "# using the concept of multiple variable assignment\n",
    "# we can create a simple in-place swapping algorithm\n",
    "\n",
    "\n",
    "def swap(alist, x,y,z):\n",
    "    \"\"\"\n",
    "    accept a list and three index numbers\n",
    "    swaps the order of the indexes in a list\n",
    "    \"\"\"\n",
    "    \n",
    "    alist[x], alist[y], alist[z] = alist[z], alist[x], alist[y]\n",
    "    \n",
    "mylist = ['Fennec Fox', 'Giant River Otter', 'Siberian Tiger', 'Tasmanian Devil', 'Some Dog Named Frank']\n",
    "print (f'before swap: {mylist}')\n",
    "swap(mylist, 0,3,-1)\n",
    "print (f'after swap: {mylist}')"
   ]
  },
  {
   "cell_type": "markdown",
   "metadata": {},
   "source": [
    "#### Out of Place Algorithm"
   ]
  },
  {
   "cell_type": "markdown",
   "metadata": {},
   "source": [
    "##### An out of place algorithm is characterized by the creation of a new data structure/collection/value\n",
    "##### And Maintains data integrity aka does not modify the original values"
   ]
  },
  {
   "cell_type": "code",
   "execution_count": 6,
   "metadata": {},
   "outputs": [
    {
     "name": "stdout",
     "output_type": "stream",
     "text": [
      "['Siberian Tiger', 'Fennec Fox', 'Giant River Otter', 'Tasmanian Devil', 'Some Dog Named Frank']\n",
      "['Siberian Tiger', 'Fennec Fox', 'Giant River Otter', 'Tasmanian Devil', 'Some Dog Named Frank']\n",
      "\n",
      "\n",
      "original before reverse: ['Siberian Tiger', 'Fennec Fox', 'Giant River Otter', 'Tasmanian Devil', 'Some Dog Named Frank']\n",
      "\n",
      "\n",
      "original after reverse: ['Siberian Tiger', 'Fennec Fox', 'Giant River Otter', 'Tasmanian Devil', 'Some Dog Named Frank']\n",
      "\n",
      "\n",
      "reversedcopy: ['Some Dog Named Frank', 'Tasmanian Devil', 'Giant River Otter', 'Fennec Fox', 'Siberian Tiger']\n"
     ]
    }
   ],
   "source": [
    "# reversing a list completely using list slicing\n",
    "# a simple out of place algorithm\n",
    "print (mylist)\n",
    "mylist[::-1] # reverse the list\n",
    "print (mylist)\n",
    "# notice that there is no change above\n",
    "    # reversing the list using list slicing is an out of place algorithm\n",
    "    # it creates a new list in reverse order\n",
    "    # it does not modify the original\n",
    "    # so if we want to use that reversed version going forward, we need to assign it a variable\n",
    "\n",
    "print (f'\\n\\noriginal before reverse: {mylist}')\n",
    "reversedcopy = mylist[::-1]\n",
    "print (f'\\n\\noriginal after reverse: {mylist}')\n",
    "print (f'\\n\\nreversedcopy: {reversedcopy}')\n",
    "\n",
    "# an out of place algorithm either creates a modified copy or an entriely new data structure\n",
    "# out of palce algorightms are often easily identifiable by the necessity of variable assignment\n",
    "    # and return statements\n",
    "    # an out of place algorithm that is a function will always need a return statemtn"
   ]
  },
  {
   "cell_type": "markdown",
   "metadata": {},
   "source": [
    "### Stereotypical python in-place vs out of place example:sorting\n",
    "### Python has two sorting functions - sorted() and .sort()\n"
   ]
  },
  {
   "cell_type": "code",
   "execution_count": 11,
   "metadata": {},
   "outputs": [
    {
     "name": "stdout",
     "output_type": "stream",
     "text": [
      "['Some Dog Named Frank', 'Giant River Otter', 'Siberian Tiger', 'Fennec Fox', 'Tasmanian Devil']\n",
      "['Fennec Fox', 'Giant River Otter', 'Siberian Tiger', 'Some Dog Named Frank', 'Tasmanian Devil']\n",
      "['Some Dog Named Frank', 'Giant River Otter', 'Siberian Tiger', 'Fennec Fox', 'Tasmanian Devil']\n"
     ]
    }
   ],
   "source": [
    "# sorted is out of place\n",
    "print (mylist)\n",
    "print (sorted(mylist)) # sorted is returning a sorted copy of the list and not modifying the original\n",
    "print (mylist)"
   ]
  },
  {
   "cell_type": "code",
   "execution_count": 12,
   "metadata": {},
   "outputs": [
    {
     "name": "stdout",
     "output_type": "stream",
     "text": [
      "['Some Dog Named Frank', 'Giant River Otter', 'Siberian Tiger', 'Fennec Fox', 'Tasmanian Devil']\n",
      "None\n",
      "['Fennec Fox', 'Giant River Otter', 'Siberian Tiger', 'Some Dog Named Frank', 'Tasmanian Devil']\n"
     ]
    }
   ],
   "source": [
    "# .sort() is in place\n",
    "print (mylist)\n",
    "print (mylist.sort()) #.sort() returns None and modifies the original list\n",
    "print (mylist)"
   ]
  },
  {
   "cell_type": "markdown",
   "metadata": {},
   "source": [
    "#### In-Class Exercise #1 <br>\n",
    "<p>Write a function that takes in four arguments (list, index1, index2, index3), and swaps those three positions in the list passed in.</p>"
   ]
  },
  {
   "cell_type": "code",
   "execution_count": 29,
   "metadata": {},
   "outputs": [
    {
     "name": "stdout",
     "output_type": "stream",
     "text": [
      "[10, 4, 3, 8, 4, 2, 6]\n",
      "[6, 2, 4, 8, 3, 4, 10]\n",
      "[10, 4, 3, 8, 4, 2, 6]\n",
      "[6, 2, 4, 8, 3, 4, 10]\n",
      "[6, 2, 4, 8, 3, 4, 10]\n"
     ]
    }
   ],
   "source": [
    "l_1 = [10, 4, 3, 8, 4, 2, 6]\n",
    "\n",
    "def ipReverse(arr):\n",
    "    newarr = arr[::-1]\n",
    "    print (newarr)\n",
    "\n",
    "def changeOrder (arr):\n",
    "    for i in range(len(arr)//2):\n",
    "        arr[i], arr[-1 - i] = arr[-1 - i], arr[i]\n",
    "    print (arr)\n",
    "    \n",
    "        \n",
    "print(l_1)\n",
    "ipReverse(l_1)\n",
    "print (l_1)\n",
    "changeOrder(l_1)\n",
    "print(l_1)"
   ]
  },
  {
   "cell_type": "code",
   "execution_count": 25,
   "metadata": {},
   "outputs": [
    {
     "name": "stdout",
     "output_type": "stream",
     "text": [
      "[9, 8, 7, 6, 5, 4, 3, 2, 1, 0]\n",
      "Before: [5, 10, 15, 20, 25, 30, 35, 40, 45, 50]\n",
      "After: [50, 45, 40, 35, 30, 25, 20, 15, 10, 5]\n"
     ]
    }
   ],
   "source": [
    "num = [0, 1, 2, 3, 4, 5, 6, 7, 8, 9]\n",
    "\n",
    "def in_place(liste):\n",
    "    for i in range(len(num)//2):\n",
    "        num[i], num[-1 - i] = num[-1 - i], num[i]\n",
    "    print(num)\n",
    "    \n",
    "in_place(num)\n",
    "def reverse_inplace(lst):\n",
    "    first = 0\n",
    "    last = len(lst) - 1\n",
    "    while first < last:\n",
    "        lst[first], lst[last] = lst[last], lst[first]\n",
    "        first += 1\n",
    "        last -= 1\n",
    "\n",
    "\n",
    "liste = [5, 10, 15, 20, 25, 30, 35, 40, 45, 50]\n",
    "\n",
    "print(f'Before: {liste}')\n",
    "reverse_inplace(liste)\n",
    "print(f'After: {liste}')\n"
   ]
  },
  {
   "cell_type": "markdown",
   "metadata": {},
   "source": [
    "## Two Pointers"
   ]
  },
  {
   "cell_type": "code",
   "execution_count": null,
   "metadata": {},
   "outputs": [],
   "source": [
    "# just some variable that you set up to keep track of index numbers as you loop/perform a process\n",
    "# its a term used to refer to an integer variable that is used in a specific manner\n",
    "\n",
    "# lets say I wanted to take a pointer approach with the above ipReverse algorithm\n",
    "# rather than our index number i being controlled by a far loop\n",
    "# we'll control it ourselves\n",
    "# the advantage of a pointed is that you have more control over the iteration and change in the pointer\n",
    "    # than a non-pointer approach\n",
    "    # pointers are most commonly used with a while loop\n",
    "# often time, pointer approaches can be more efficient (better time complexity) than non-pointer approaches\n",
    "    #(not in this case though)\n",
    "    \n",
    "l_1 = [10,4,3,8,4,2,6]\n",
    "\n",
    "# advantage of a pointer -> we control where it starts!\n",
    "    # what if i gave the constraint to the above question (ipReverse)\n",
    "    # that I wanted all but the first and last values swapped\n",
    "    # aka expected output: [10,2,4,8,3,4,6]\n",
    "    # set the pointer equal to 1 \n",
    "\n",
    "\n",
    "def ipReverse(arr):\n",
    "    i = 0 # this is just an integer variable but im setting it up to rep an index number (therefor it is a pointer)\n",
    "    while i<= len(arr)//2:\n",
    "        arr[i], arr[-(i+1)] = arr[-(i+1)], arr[i]\n",
    "        i +=1\n",
    "        \n",
    "print (l_1)\n",
    "ipReverse(l_1)\n",
    "print(l_1) # this should now be the revrsed value"
   ]
  },
  {
   "cell_type": "markdown",
   "metadata": {},
   "source": [
    "#### Syntax"
   ]
  },
  {
   "cell_type": "code",
   "execution_count": 32,
   "metadata": {},
   "outputs": [
    {
     "name": "stdout",
     "output_type": "stream",
     "text": [
      "[10, 4, 3, 8, 2, 4, 6]\n",
      "[6, 4, 2, 8, 3, 4, 10]\n"
     ]
    }
   ],
   "source": [
    "# same concept as a single pointer\n",
    "# but can be advantageous in making code more readable\n",
    "# or can be necessary for the solution of some problems\n",
    "\n",
    "# how might we be able to use a two pointer setup to make thecode for ipReverse more readable\n",
    "# have one pointer for the front of the list / left side\n",
    "# one pointer for the back of the list / right side\n",
    "# we're essentially just performing a series of swaps between the left side and the right side of the list\n",
    "\n",
    "# what are the starting values of our values\n",
    "    # first index in the list\n",
    "    # last index in the list\n",
    "# how is our while loop defined\n",
    "    # while the pointers havent matched/crossed\n",
    "        # easier to answer once we set up initial values\n",
    "# how are our pointers incremented (changed)\n",
    "    # changed by 1 each step of the loop after swap\n",
    "    \n",
    "def twoPointerIPReverse(arr):\n",
    "    # create pointers\n",
    "    left = 0\n",
    "    right = len(arr) - 1\n",
    "    #define while loop\n",
    "    while left < right:\n",
    "        # do swap\n",
    "        arr[left], arr [right] = arr[right], arr[left]\n",
    "        # increment our pointers\n",
    "        left += 1\n",
    "        right -= 1\n",
    "        \n",
    "l_1 = [10,4,3,8,2,4,6]\n",
    "print (l_1)\n",
    "twoPointerIPReverse(l_1)\n",
    "print (l_1)"
   ]
  },
  {
   "cell_type": "markdown",
   "metadata": {},
   "source": [
    "#### Video of Algorithms <br>\n",
    "<p>Watch the video about algorithms.</p>\n",
    "\n",
    "https://www.youtube.com/watch?v=Q9HjeFD62Uk\n",
    "\n",
    "https://www.youtube.com/watch?v=kPRA0W1kECg\n",
    "\n",
    "https://www.youtube.com/watch?v=ZZuD6iUe3Pc"
   ]
  },
  {
   "cell_type": "markdown",
   "metadata": {},
   "source": [
    "# Sorting Algorithms"
   ]
  },
  {
   "cell_type": "markdown",
   "metadata": {},
   "source": [
    "#### Bubble Sort\n",
    "\n",
    "Worst Case: O(n^2) Time - O(1) Space"
   ]
  },
  {
   "cell_type": "code",
   "execution_count": 35,
   "metadata": {},
   "outputs": [
    {
     "name": "stdout",
     "output_type": "stream",
     "text": [
      "[1, 3, 5, 7, 12, 20, 37, 42]\n"
     ]
    }
   ],
   "source": [
    "def bubbleSort(array):\n",
    "    # flag variable - True if we think the list is sorted, False if i\n",
    "    isSorted = False # conditional here is constant | while loop is a loop (potentially linear)\n",
    "    while not isSorted: \n",
    "        # assume that the list is sorted and that we want to end the while loop\n",
    "        isSorted = True #1\n",
    "        # if it was a break, it would just end. with a flag like this isSorted - since its based on a conditional, it only runs when it hits that conditions\n",
    "        # perform our actual iteration \n",
    "        for i in range(len(array)-1): #n linear step\n",
    "            if array[i] > array[i+1]: # check if out of order #1\n",
    "                array[i], array[i+1] = array[i+1], array [i] # swap #1\n",
    "                isSorted = False # if a swap occured then potentially more swaps need to occur #1\n",
    "                \n",
    "mylist = [5,3,12,7,37,20,1,42]\n",
    "bubbleSort(mylist)\n",
    "print(mylist)\n",
    "\n",
    "# time complexity breakdown\n",
    "    # modifying the original list\n",
    "    # constant space \n",
    "    # time complexity:\n",
    "        # O(n^2) theta(nlogn) omega(n)"
   ]
  },
  {
   "cell_type": "markdown",
   "metadata": {},
   "source": [
    "##### Insertion Sort\n",
    "\n",
    "Worst Case: O(n^2) time - O(1)space"
   ]
  },
  {
   "cell_type": "code",
   "execution_count": 37,
   "metadata": {},
   "outputs": [],
   "source": [
    "# Time Complexity\n",
    "# O(n^2) theta(nlogn) omega(n)\n",
    "# worst case quadratic, average case linear-logarithmic, best case linear\n",
    "def insertionSort(array):\n",
    "    #outer for loop through all but the first element in the list\n",
    "    for i in range(1, len(array)):\n",
    "        j = 1 # start pointer j at the index we're pulling the value out of\n",
    "        while j > 0 and array [j] < array[j-1]:\n",
    "            array[j], array[j-1] = array[j-1], array[j] # make a swap\n",
    "            # move the pointer toward  the front of the list"
   ]
  },
  {
   "cell_type": "markdown",
   "metadata": {},
   "source": [
    "## Merge Sort"
   ]
  },
  {
   "cell_type": "markdown",
   "metadata": {},
   "source": [
    "#### How it Works"
   ]
  },
  {
   "cell_type": "code",
   "execution_count": null,
   "metadata": {},
   "outputs": [],
   "source": [
    "# step 1: split everything into its own partition recursively\n",
    "# step 2: from left to right merge groups together\n",
    "# step 3: while merging, place each item into the correct position in the merged group\n",
    "# step 4: continue step 2-3 until only one group is left\n",
    "\n",
    "from random import randint\n",
    "# make a list of random numbers between 0 and 20\n",
    "nums = [randint(0,20) for i in range(6)]\n",
    "\n",
    "def mergeSort(arr):\n",
    "    print ('Splitting...', arr)\n",
    "    \n",
    "    # step1: splitting the array into two halves\n",
    "    if len(arr) > 1:\n",
    "        lefthalf = arr[:len(arr)//2] #:len(arr)//2 = slice from start up to midpoint of the list\n",
    "        righthalf = arr[len(arr)//2]:]\n",
    "            \n",
    "            #recursively call mergeSort to perform further splits\n",
    "            mergeSort(lefthalf)\n",
    "            mergeSort(righthalf)\n",
    "            \n",
    "            #step 2: comparing and merging the right and left halves\n",
    "            # set up my pointers:\n",
    "            i = 0 # pointer for left half\n",
    "            j = 0 # pointer for the right half\n",
    "            k = 0 # pointer for our main array\n",
    "            \n",
    "            while i < len(lefthalf) and j < len(righthalf): #controls if we have values remaining in both the left and right sp\n",
    "                if lefthalf[i] < righthalf[j]\n",
    "                    arr[k] = lefthalf[i]\n",
    "                    i = i+1\n",
    "                else:\n",
    "                    arr[k] = righthalf[j]\n",
    "                    j = j+ 1\n",
    "                k = k+1\n",
    "            while i < len(lefthalf): # only have values left in the lefthalf\n",
    "                arr[k] = lefthalf[i]\n",
    "                i = i+ 1\n",
    "                k = k+1\n",
    "            while j < len(righthalf): # only have values left in the righthalf\n",
    "                arr[k] = righthalf[j]\n",
    "                j = i+ 1\n",
    "                k = k+1\n",
    "        print (\"Merging: \", arr)\n",
    "\n",
    "print (nums)\n",
    "mergeSort(nums)\n",
    "print (nums)\n",
    "        \n",
    "        "
   ]
  },
  {
   "cell_type": "markdown",
   "metadata": {},
   "source": [
    "# Binary Search\n",
    "\n",
    "The Binary Search algorithm works by finding the number in the middle of a given array and comparing it to the target. Given that the array is sorted\n",
    "\n",
    "* The worst case run time for this algorithm is `O(log(n))`"
   ]
  },
  {
   "cell_type": "code",
   "execution_count": 41,
   "metadata": {},
   "outputs": [
    {
     "data": {
      "text/plain": [
       "'The value 9 is not present in the list. Steps taken: 5'"
      ]
     },
     "execution_count": 41,
     "metadata": {},
     "output_type": "execute_result"
    }
   ],
   "source": [
    "from random import randint\n",
    "# make a list of random numbers between 0 and 20\n",
    "nums = sorted ([randint(0,200) for i in range(50)])\n",
    "\n",
    "def binarySearch (arr,target):\n",
    "    left = 0\n",
    "    right = len(arr)-1\n",
    "    steps = 0 # counts total steps of the loop\n",
    "    while left <=right: # while we still have values to check\n",
    "        steps+=1\n",
    "        middle = (left + right)//2\n",
    "        potentialMatch = arr[middle]\n",
    "        if target == potentialMatch:\n",
    "            return f'The index of {target} is {middle}. Steps taken: {steps}'\n",
    "        elif target > potentialMatch:\n",
    "            left = middle +1\n",
    "        else : #target < potentialMatch\n",
    "            right = middle -1\n",
    "    return f'The value {target} is not present in the list. Steps taken: {steps}'\n",
    "\n",
    "binarySearch(nums,9)"
   ]
  },
  {
   "cell_type": "markdown",
   "metadata": {},
   "source": [
    "# Exercises"
   ]
  },
  {
   "cell_type": "markdown",
   "metadata": {},
   "source": [
    "### Exercise #1 <br>\n",
    "<p>Reverse the list below in-place using an in-place algorithm.<br>For extra credit: Reverse the strings at the same time.</p>"
   ]
  },
  {
   "cell_type": "code",
   "execution_count": 91,
   "metadata": {},
   "outputs": [
    {
     "name": "stdout",
     "output_type": "stream",
     "text": [
      "['this', 'is', 'a', 'sentence', '.']\n",
      "['.', 'sentence', 'a', 'is', 'this']\n",
      "['this', 'is', 'a', 'different', 'sentence', '.']\n",
      "['.', 'sentence', 'different', 'a', 'is', 'this']\n"
     ]
    }
   ],
   "source": [
    "words = ['this' , 'is', 'a', 'sentence', '.']\n",
    "\n",
    "def reverseSentence(list):\n",
    "    return list.reverse()\n",
    "print(words)\n",
    "reverseSentence(words)\n",
    "print (words)\n",
    "\n",
    "words2 = ['this' , 'is', 'a', 'different', 'sentence', '.']\n",
    "def reverseLandS (list):\n",
    "    for x in list:\n",
    "        x[::-1]\n",
    "    return list.reverse()\n",
    "\n",
    "print(words2)\n",
    "reverseLandS (words2)\n",
    "print(words2)"
   ]
  },
  {
   "cell_type": "markdown",
   "metadata": {},
   "source": [
    "### Exercise #2 <br>\n",
    "<p>Create a function that counts how many distinct words are in the string below, then outputs a dictionary with the words as the key and the value as the amount of times that word appears in the string.<br>Should output:<br>{'a': 5,<br>\n",
    " 'abstract': 1,<br>\n",
    " 'an': 3,<br>\n",
    " 'array': 2, ... etc...</p>"
   ]
  },
  {
   "cell_type": "code",
   "execution_count": 90,
   "metadata": {},
   "outputs": [
    {
     "data": {
      "text/plain": [
       "{'In': 1,\n",
       " 'computing,': 1,\n",
       " 'a': 4,\n",
       " 'hash': 4,\n",
       " 'table': 2,\n",
       " 'map': 2,\n",
       " 'is': 1,\n",
       " 'data': 2,\n",
       " 'structure': 2,\n",
       " 'which': 2,\n",
       " 'implements': 1,\n",
       " 'an': 3,\n",
       " 'associative': 1,\n",
       " 'array': 2,\n",
       " 'abstract': 1,\n",
       " 'type,': 1,\n",
       " 'that': 1,\n",
       " 'can': 2,\n",
       " 'keys': 1,\n",
       " 'to': 2,\n",
       " 'values.': 1,\n",
       " 'A': 1,\n",
       " 'uses': 1,\n",
       " 'function': 1,\n",
       " 'compute': 1,\n",
       " 'index': 1,\n",
       " 'into': 1,\n",
       " 'of': 1,\n",
       " 'buckets': 1,\n",
       " 'or': 1,\n",
       " 'slots': 1,\n",
       " 'from': 1,\n",
       " 'the': 1,\n",
       " 'desired': 1,\n",
       " 'value': 1,\n",
       " 'be': 1,\n",
       " 'found': 1}"
      ]
     },
     "execution_count": 90,
     "metadata": {},
     "output_type": "execute_result"
    }
   ],
   "source": [
    "### a_text = 'In computing, a hash table hash map is a data structure which implements an associative array abstract data type, a structure that can map keys to values. A hash table uses a hash function to compute an index into an array of buckets or slots from which the desired value can be found'\n",
    "count = {}\n",
    "def orgWords (sentence):\n",
    "    count = {}\n",
    "    for x in sentence.split():\n",
    "        if x in count:\n",
    "            count[x] +=1\n",
    "        else:\n",
    "            count[x] = 1\n",
    "#     count = {count:count[x] for x in sorted(count)}\n",
    "    return count\n",
    "\n",
    "orgWords (a_text)"
   ]
  },
  {
   "cell_type": "markdown",
   "metadata": {},
   "source": [
    "## Exercise #3\n",
    "\n",
    "Write a program to implement a Linear Search Algorithm. Also in a comment, write the Time Complexity of the following algorithm.\n",
    "\n",
    "#### Hint: Linear Searching will require searching a list for a given number. "
   ]
  },
  {
   "cell_type": "code",
   "execution_count": 89,
   "metadata": {},
   "outputs": [
    {
     "name": "stdout",
     "output_type": "stream",
     "text": [
      "nums: [3, 3, 7, 8, 9, 10, 12, 13, 13, 14, 16, 16, 17, 17, 20]\n"
     ]
    },
    {
     "data": {
      "text/plain": [
       "'14 not in [3, 3, 7, 8, 9, 10, 12, 13, 13, 14, 16, 16, 17, 17, 20]'"
      ]
     },
     "execution_count": 89,
     "metadata": {},
     "output_type": "execute_result"
    }
   ],
   "source": [
    "# determine whether target exists within the list\n",
    "\n",
    "from random import randint\n",
    "# make a list of random numbers between 0 and 20\n",
    "nums = sorted ([randint(0,20) for i in range(15)])\n",
    "print (f'nums: {nums}')\n",
    "def linearSearch(list, x):\n",
    "    for i in range(len(list)):\n",
    "        return f'index of {x} is {list.index(x)}' if a==x else f'{x} not in {list}'\n",
    "\n",
    "    \n",
    "    \n",
    "linearSearch(nums, 14)\n",
    "# def of a function - constant time O(1)\n",
    "# list comprehension membership test - linear\n",
    "# for loop - linear with a linear step nested inside\n",
    "# overall: quadratic time complexity"
   ]
  }
 ],
 "metadata": {
  "kernelspec": {
   "display_name": "Python 3 (ipykernel)",
   "language": "python",
   "name": "python3"
  },
  "language_info": {
   "codemirror_mode": {
    "name": "ipython",
    "version": 3
   },
   "file_extension": ".py",
   "mimetype": "text/x-python",
   "name": "python",
   "nbconvert_exporter": "python",
   "pygments_lexer": "ipython3",
   "version": "3.9.7"
  }
 },
 "nbformat": 4,
 "nbformat_minor": 2
}
